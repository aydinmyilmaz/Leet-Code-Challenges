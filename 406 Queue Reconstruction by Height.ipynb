{
 "cells": [
  {
   "cell_type": "markdown",
   "metadata": {},
   "source": [
    "Suppose you have a random list of people standing in a queue. Each person is described by a pair of integers (h, k), where h is the height of the person and k is the number of people in front of this person who have a height greater than or equal to h. Write an algorithm to reconstruct the queue.\n",
    "\n",
    "Note:\n",
    "The number of people is less than 1,100.\n",
    "\n",
    "\n",
    "Example\n",
    "\n",
    "Input:\n",
    "[[7,0], [4,4], [7,1], [5,0], [6,1], [5,2]]\n",
    "\n",
    "Output:\n",
    "[[5,0], [7,0], [5,2], [6,1], [4,4], [7,1]]"
   ]
  },
  {
   "cell_type": "code",
   "execution_count": 143,
   "metadata": {},
   "outputs": [
    {
     "name": "stdout",
     "output_type": "stream",
     "text": [
      "[[7, 0], [7, 1], [6, 1], [5, 0], [5, 2], [4, 4]]\n",
      "[[7, 0]]\n",
      "7 ki: 1 [7, 1] res: [[7, 0]]\n",
      "res [[7, 0], [7, 1]]\n",
      "6 ki: 1 [6, 1] res: [[7, 0], [7, 1]]\n",
      "res [[7, 0], [6, 1], [7, 1]]\n",
      "5 ki: 0 [5, 0] res: [[7, 0], [6, 1], [7, 1]]\n",
      "res [[5, 0], [7, 0], [6, 1], [7, 1]]\n",
      "5 ki: 2 [5, 2] res: [[5, 0], [7, 0], [6, 1], [7, 1]]\n",
      "res [[5, 0], [7, 0], [5, 2], [6, 1], [7, 1]]\n",
      "4 ki: 4 [4, 4] res: [[5, 0], [7, 0], [5, 2], [6, 1], [7, 1]]\n",
      "res [[5, 0], [7, 0], [5, 2], [6, 1], [4, 4], [7, 1]]\n",
      "[[5, 0], [7, 0], [5, 2], [6, 1], [4, 4], [7, 1]]\n"
     ]
    }
   ],
   "source": [
    "people=[[7,0], [4,4], [7,1], [5,0], [6,1], [5,2]]\n",
    "\n",
    "if not people:\n",
    "    print( [])\n",
    "n = len(people)\n",
    "people_sorted = sorted(people, key = lambda x: (-x[0],x[1]))\n",
    "print(people_sorted )\n",
    "res = [people_sorted[0]]\n",
    "print(res)\n",
    "for i in range(1,n):\n",
    "    hi, ki = people_sorted[i]\n",
    "    print(hi, \"ki:\",ki, people_sorted[i], \"res:\",res)\n",
    "    res.insert(ki, people_sorted[i])\n",
    "    print(\"res:\",res)\n",
    "print (res)"
   ]
  },
  {
   "cell_type": "markdown",
   "metadata": {},
   "source": [
    "We first sort the list people, in the order of decreasing height. If multiple people are of the same height, sort them in ascending order of the number of people in front of them. For example, if people = [[7,0], [4,4], [7,1], [5,0], [6,1], [5,2]], after the line people_sorted = sorted(people, key = lambda x: (-x[0],x[1])), people_sorted = [[7,0], [7,1], [6,1], [5,0], [5,2], [4,4]]. Then for each person [i,j], their index in people_sorted is larger than or equal to j (due to the way we sort people). Hence to obtain the final results, we just need to construct an empty list res, and starting from the left, insert each element [i,j] in people_sorted to position j in res (Latter insertions of [i',j'] won't affect j because either i' < i, or i' == i and j' > j). The time complexity of the algorithm is O(n^2): We loop over people once, and each insertion is an O(n) operation.\n",
    "\n",
    "We illustrate the above procedure for people_sorted, as i goes from 0 to 5, the empty list res changes as follows:\n",
    "\n",
    "[[7,0]] (insert [7,0] at index 0)\n",
    "[[7,0],[7,1]] (insert [7,1] at index 1)\n",
    "[[7,0],[6,1],[7,1]] (insert [6,1] at index 1)\n",
    "[[5,0],[7,0],[6,1],[7,1]] (insert [5,0] at index 0)\n",
    "[[5,0],[7,0],[5,2],[6,1],[7,1]] (insert [5,2] at index 2)\n",
    "[[5,0],[7,0],[5,2],[6,1],[4,4],[7,1]] (insert [4,4] at index 4)\n",
    "class Solution(object):\n",
    "    def reconstructQueue(self, people):\n",
    "        \"\"\"\n",
    "        :type people: List[List[int]]\n",
    "        :rtype: List[List[int]]\n",
    "        \"\"\"\n",
    "        if not people:\n",
    "            return []\n",
    "        n = len(people)\n",
    "        people_sorted = sorted(people, key = lambda x: (-x[0],x[1]))\n",
    "        res = [people_sorted[0]]\n",
    "        for i in range(1,n):\n",
    "            hi, ki = people_sorted[i]\n",
    "            res.insert(ki, people_sorted[i])\n",
    "        return res"
   ]
  },
  {
   "cell_type": "code",
   "execution_count": null,
   "metadata": {},
   "outputs": [],
   "source": [
    "sorted()"
   ]
  }
 ],
 "metadata": {
  "kernelspec": {
   "display_name": "Python 3",
   "language": "python",
   "name": "python3"
  },
  "language_info": {
   "codemirror_mode": {
    "name": "ipython",
    "version": 3
   },
   "file_extension": ".py",
   "mimetype": "text/x-python",
   "name": "python",
   "nbconvert_exporter": "python",
   "pygments_lexer": "ipython3",
   "version": "3.6.4"
  }
 },
 "nbformat": 4,
 "nbformat_minor": 2
}
