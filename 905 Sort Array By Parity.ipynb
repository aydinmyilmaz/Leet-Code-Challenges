{
 "cells": [
  {
   "cell_type": "markdown",
   "metadata": {},
   "source": [
    "Given an array A of non-negative integers, return an array consisting of all the even elements of A, followed by all the odd elements of A.\n",
    "\n",
    "You may return any answer array that satisfies this condition.\n",
    "\n",
    " \n",
    "\n",
    "Example 1:\n",
    "\n",
    "Input: [3,1,2,4]\n",
    "Output: [2,4,3,1]\n",
    "The outputs [4,2,3,1], [2,4,1,3], and [4,2,1,3] would also be accepted.\n",
    " \n",
    "\n",
    "Note:\n",
    "\n",
    "1 <= A.length <= 5000\n",
    "0 <= A[i] <= 5000"
   ]
  },
  {
   "cell_type": "code",
   "execution_count": 3,
   "metadata": {},
   "outputs": [
    {
     "name": "stdout",
     "output_type": "stream",
     "text": [
      "[2, 4, 3, 1]\n"
     ]
    }
   ],
   "source": [
    "mylist=[3,1,2,4]\n",
    "oddlist=[]\n",
    "evenlist=[]\n",
    "for i in mylist:\n",
    "    if i%2==0:\n",
    "        evenlist.append(i)\n",
    "    else:\n",
    "        oddlist.append(i)\n",
    "print(evenlist+oddlist)"
   ]
  },
  {
   "cell_type": "code",
   "execution_count": null,
   "metadata": {},
   "outputs": [],
   "source": [
    "print ([i for i in A if i%2==0] + [i for i in A if i%2==1])"
   ]
  }
 ],
 "metadata": {
  "kernelspec": {
   "display_name": "Python 3",
   "language": "python",
   "name": "python3"
  },
  "language_info": {
   "codemirror_mode": {
    "name": "ipython",
    "version": 3
   },
   "file_extension": ".py",
   "mimetype": "text/x-python",
   "name": "python",
   "nbconvert_exporter": "python",
   "pygments_lexer": "ipython3",
   "version": "3.6.4"
  }
 },
 "nbformat": 4,
 "nbformat_minor": 2
}
