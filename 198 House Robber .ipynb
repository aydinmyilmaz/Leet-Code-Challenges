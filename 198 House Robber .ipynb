{
 "cells": [
  {
   "cell_type": "code",
   "execution_count": null,
   "metadata": {},
   "outputs": [],
   "source": [
    "You are a professional robber planning to rob houses along a street. Each house has a certain amount of money stashed, the only constraint stopping you from robbing each of them is that adjacent houses have security system connected and it will automatically contact the police if two adjacent houses were broken into on the same night.\n",
    "\n",
    "Given a list of non-negative integers representing the amount of money of each house, determine the maximum amount of money you can rob tonight without alerting the police.\n",
    "\n",
    "Example 1:\n",
    "\n",
    "Input: [1,2,3,1]\n",
    "Output: 4\n",
    "Explanation: Rob house 1 (money = 1) and then rob house 3 (money = 3).\n",
    "             Total amount you can rob = 1 + 3 = 4.\n",
    "Example 2:\n",
    "\n",
    "Input: [2,7,9,3,1]\n",
    "Output: 12\n",
    "Explanation: Rob house 1 (money = 2), rob house 3 (money = 9) and rob house 5 (money = 1).\n",
    "             Total amount you can rob = 2 + 9 + 1 = 12."
   ]
  },
  {
   "cell_type": "code",
   "execution_count": 37,
   "metadata": {},
   "outputs": [
    {
     "data": {
      "text/plain": [
       "{(0, 2): [<function sum>, <function sum>, <function sum>],\n",
       " (1, 7): [<function sum>, <function sum>],\n",
       " (2, 9): [<function sum>, <function sum>],\n",
       " (3, 3): [<function sum>, <function sum>],\n",
       " (4, 1): [<function sum>, <function sum>, <function sum>]}"
      ]
     },
     "execution_count": 37,
     "metadata": {},
     "output_type": "execute_result"
    }
   ],
   "source": [
    "hsnum=[2,7,9,3,1]\n",
    "\n",
    "hsnumidx =[ (i,v) for i,v in enumerate(hsnum)]\n",
    "\n",
    "SortedHsNum=sorted(hsnumidx, key=lambda x:x[1])[::-1]\n",
    "\n",
    "SortedHsNum2 = SortedHsNum[:]\n",
    "\n",
    "#print(SortedHsNum2)\n",
    "\n",
    "numsdict=dict(((key,value), []) for (key, value) in hsnumidx)\n",
    "\n",
    "for ix,y in SortedHsNum:\n",
    "\n",
    "    for i,v in SortedHsNum2:      \n",
    "             \n",
    "        if ix+1 != i and ix-1 != i and ix != i:\n",
    "            \n",
    "            sum1 += v \n",
    "            \n",
    "            numsdict[(ix,y)].append(sum)\n",
    "            \n",
    "            #print(\"sum1:\")\n",
    "            \n",
    "numsdict"
   ]
  },
  {
   "cell_type": "code",
   "execution_count": 11,
   "metadata": {},
   "outputs": [
    {
     "name": "stdout",
     "output_type": "stream",
     "text": [
      "[0, 0, 0, 0, 0, 0, 0, 0]\n",
      "[2, 0, 0, 0, 0, 0, 0, 0]\n",
      "[2, 7, 0, 0, 0, 0, 0, 0]\n",
      "[2, 7, 7, 0, 0, 0, 0, 0]\n",
      "[2, 7, 7, 10, 0, 0, 0, 0]\n",
      "[2, 7, 7, 10, 10, 0, 0, 0]\n",
      "[2, 7, 7, 10, 10, 30, 0, 0]\n",
      "[2, 7, 7, 10, 10, 30, 30, 0]\n",
      "[2, 7, 7, 10, 10, 30, 30, 36]\n",
      "36\n"
     ]
    }
   ],
   "source": [
    "nums=[2,7,4,3,1,20,6,6]\n",
    "\n",
    "if nums==[]:\n",
    "    print(0)\n",
    "if len(nums)==1:\n",
    "    print (max(nums))\n",
    "\n",
    "dp = [0]*len(nums)\n",
    "print(dp)\n",
    "dp[0] = nums[0]\n",
    "print(dp)\n",
    "dp[1] = max(nums[1],nums[0])\n",
    "print(dp)\n",
    "for i in range(2,len(nums)):\n",
    "    dp[i] = max(dp[i-1],dp[i-2]+nums[i])\n",
    "    print(dp)\n",
    "print (dp[len(nums)-1])"
   ]
  },
  {
   "cell_type": "code",
   "execution_count": null,
   "metadata": {},
   "outputs": [],
   "source": []
  }
 ],
 "metadata": {
  "kernelspec": {
   "display_name": "Python 3",
   "language": "python",
   "name": "python3"
  },
  "language_info": {
   "codemirror_mode": {
    "name": "ipython",
    "version": 3
   },
   "file_extension": ".py",
   "mimetype": "text/x-python",
   "name": "python",
   "nbconvert_exporter": "python",
   "pygments_lexer": "ipython3",
   "version": "3.6.4"
  }
 },
 "nbformat": 4,
 "nbformat_minor": 2
}
