{
 "cells": [
  {
   "cell_type": "code",
   "execution_count": 24,
   "metadata": {},
   "outputs": [
    {
     "name": "stdout",
     "output_type": "stream",
     "text": [
      "True\n"
     ]
    }
   ],
   "source": [
    "num = 8\n",
    "num2=num\n",
    "\n",
    "n=0\n",
    "while num != 0:\n",
    "    \n",
    "    if num2%4!=0 :\n",
    "        print(False)\n",
    "        break\n",
    "        \n",
    "    num = num // 4\n",
    "    \n",
    "    if num == 0 and num :\n",
    "        print(True)\n",
    "    elif n == 32 :\n",
    "        print(False)\n",
    "    \n",
    "    n+=1   \n",
    "    "
   ]
  },
  {
   "cell_type": "code",
   "execution_count": 17,
   "metadata": {},
   "outputs": [
    {
     "name": "stdout",
     "output_type": "stream",
     "text": [
      "True\n"
     ]
    }
   ],
   "source": [
    "num = 64\n",
    "\n",
    "mylist = [1]\n",
    "\n",
    "for i in range(0,32):\n",
    "    \n",
    "    mylist.append(mylist[i]*4)\n",
    "    \n",
    "    if num in mylist:\n",
    "        print(True)\n",
    "        break\n",
    "        \n",
    "    elif mylist[i] > num :\n",
    "        print(False)\n",
    "        break\n"
   ]
  },
  {
   "cell_type": "code",
   "execution_count": null,
   "metadata": {},
   "outputs": [],
   "source": []
  }
 ],
 "metadata": {
  "kernelspec": {
   "display_name": "Python 3",
   "language": "python",
   "name": "python3"
  },
  "language_info": {
   "codemirror_mode": {
    "name": "ipython",
    "version": 3
   },
   "file_extension": ".py",
   "mimetype": "text/x-python",
   "name": "python",
   "nbconvert_exporter": "python",
   "pygments_lexer": "ipython3",
   "version": "3.6.4"
  }
 },
 "nbformat": 4,
 "nbformat_minor": 2
}
