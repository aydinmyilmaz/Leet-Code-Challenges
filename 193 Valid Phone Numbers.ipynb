{
 "cells": [
  {
   "cell_type": "markdown",
   "metadata": {},
   "source": [
    "Given a text file file.txt that contains list of phone numbers (one per line), write a one liner bash script to print all valid phone numbers.\n",
    "\n",
    "You may assume that a valid phone number must appear in one of the following two formats: (xxx) xxx-xxxx or xxx-xxx-xxxx. (x means a digit)\n",
    "\n",
    "You may also assume each line in the text file must not contain leading or trailing white spaces.\n",
    "\n",
    "Example:\n",
    "\n",
    "Assume that file.txt has the following content:\n",
    "\n",
    "987-123-4567\n",
    "123 456 7890\n",
    "(123) 456-7890\n",
    "Your script should output the following valid phone numbers:\n",
    "\n",
    "987-123-4567\n",
    "(123) 456-7890"
   ]
  },
  {
   "cell_type": "code",
   "execution_count": 17,
   "metadata": {},
   "outputs": [
    {
     "name": "stdout",
     "output_type": "stream",
     "text": [
      "987-123-4567 Valid Number\n",
      "123 456 7890 Wrong Number\n",
      "(123) 456-7890 Valid Number\n"
     ]
    },
    {
     "data": {
      "text/plain": [
       "['987-123-4567', '(123) 456-7890', '']"
      ]
     },
     "execution_count": 17,
     "metadata": {},
     "output_type": "execute_result"
    }
   ],
   "source": [
    "phones=open(\"phone_numbers.txt\")\n",
    "\n",
    "myphones = phones.read().split(\"\\n\")\n",
    "newtxt=open(\"newtxt.txt\",\"w\")\n",
    "\n",
    "for item in myphones:\n",
    "    \n",
    "    if len(item) == 12:\n",
    "                       \n",
    "        digits = [0,1,2,4,5,6,8,9,10,11]       \n",
    "        \n",
    "        for i in digits: \n",
    "            \n",
    "            if (item)[3] == \"-\" and (item)[7] == \"-\":\n",
    "               \n",
    "                if ord(item[i]) <= 57 and ord(item[i]) >= 48 :\n",
    "                \n",
    "                    control2 = 1\n",
    "                 \n",
    "                else:\n",
    "                    control2 = 0\n",
    "            else:\n",
    "                \n",
    "                control2 = 0\n",
    "                \n",
    "                break\n",
    "        \n",
    "        if control2 == 1 :\n",
    "         \n",
    "            print(\"{} Valid Number\". format(item))\n",
    "           \n",
    "            newtxt.write(item+\"\\n\")\n",
    "            \n",
    "        else:         \n",
    "                \n",
    "            print(\"{} Wrong Number\". format(item))\n",
    "            \n",
    "    \n",
    "    elif len(item) == 14:\n",
    "                       \n",
    "        digits = [1,2,3,6,7,8,9,10,11,12,13]       \n",
    "        \n",
    "        for i in digits: \n",
    "            \n",
    "            if (item)[0] == \"(\" and (item)[4] == \")\" and (item)[5] == \" \"  and (item)[9] == \"-\":\n",
    "               \n",
    "                if ord(item[i]) <= 57 and ord(item[i]) >= 48 :\n",
    "                \n",
    "                    control2 = 1\n",
    "                 \n",
    "                else:\n",
    "                    \n",
    "                    control2 = 0\n",
    "            else:\n",
    "                \n",
    "                control2 = 0\n",
    "                \n",
    "                break\n",
    "        \n",
    "        if control2 == 1 :\n",
    "         \n",
    "            print(\"{} Valid Number\". format(item))\n",
    "            newtxt.write( item+\"\\n\" )\n",
    "            \n",
    "       \n",
    "        else:         \n",
    "                \n",
    "            print(\"{} Wrong Number\". format(item))\n",
    "    \n",
    "    else:\n",
    "        \n",
    "        print(\"{} Wrong Number\". format(item))\n",
    "\n",
    "newtxt=open(\"newtxt.txt\")       \n",
    "newfile = newtxt.read().split(\"\\n\")\n",
    "newfile"
   ]
  },
  {
   "cell_type": "code",
   "execution_count": 18,
   "metadata": {},
   "outputs": [
    {
     "name": "stdout",
     "output_type": "stream",
     "text": [
      "987-123-4567 Valid Number\n",
      "123 456 7890 Wrong Number\n",
      "(123) 456-7890 Valid Number\n"
     ]
    }
   ],
   "source": [
    "import re\n",
    "\n",
    "phones = open(\"phone_numbers.txt\")\n",
    "\n",
    "myphones = phones.read().split(\"\\n\")\n",
    "\n",
    "for item in myphones:\n",
    "    \n",
    "    pattern1 = re.compile('\\d{3}\\-\\d{3}\\-\\d{4}')\n",
    "    result1 = pattern1.match(item)\n",
    "    pattern2 = re.compile('\\(\\d{3}\\)\\s\\d{3}\\-\\d{4}')\n",
    "    result2 = pattern2.match(item)\n",
    "    \n",
    "    if bool(result1) or bool(result2):\n",
    "        \n",
    "        print (item, \"Valid Number\")\n",
    "        \n",
    "    else:\n",
    "        \n",
    "        print (item, \"Wrong Number\")\n",
    "    \n"
   ]
  },
  {
   "cell_type": "code",
   "execution_count": null,
   "metadata": {},
   "outputs": [],
   "source": [
    "\\w"
   ]
  }
 ],
 "metadata": {
  "kernelspec": {
   "display_name": "Python 3",
   "language": "python",
   "name": "python3"
  },
  "language_info": {
   "codemirror_mode": {
    "name": "ipython",
    "version": 3
   },
   "file_extension": ".py",
   "mimetype": "text/x-python",
   "name": "python",
   "nbconvert_exporter": "python",
   "pygments_lexer": "ipython3",
   "version": "3.6.4"
  }
 },
 "nbformat": 4,
 "nbformat_minor": 2
}
