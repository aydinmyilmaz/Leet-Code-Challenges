{
 "cells": [
  {
   "cell_type": "markdown",
   "metadata": {},
   "source": [
    "Given a non-empty array of digits representing a non-negative integer, plus one to the integer.\n",
    "\n",
    "The digits are stored such that the most significant digit is at the head of the list, and each element in the array contain a single digit.\n",
    "\n",
    "You may assume the integer does not contain any leading zero, except the number 0 itself.\n",
    "\n",
    "Example 1:\n",
    "\n",
    "Input: [1,2,3]\n",
    "Output: [1,2,4]\n",
    "Explanation: The array represents the integer 123.\n",
    "Example 2:\n",
    "\n",
    "Input: [4,3,2,1]\n",
    "Output: [4,3,2,2]\n",
    "Explanation: The array represents the integer 4321."
   ]
  },
  {
   "cell_type": "code",
   "execution_count": 26,
   "metadata": {},
   "outputs": [
    {
     "name": "stdout",
     "output_type": "stream",
     "text": [
      "['1', '2', '3']\n",
      "123\n",
      "[1, 2, 4]\n"
     ]
    }
   ],
   "source": [
    "numlist=[1,2,3]\n",
    "newlist=[]\n",
    "\n",
    "[newlist.append(str(i)) for i in numlist ]\n",
    "print(newlist)\n",
    "\n",
    "newlist=\"\".join(list(newlist[:]))\n",
    "\n",
    "int(newlist)+1\n",
    "\n",
    "print(newlist)\n",
    "\n",
    "newnum=int(newlist)+1\n",
    "        \n",
    "newlist=[int(i) for i in str(newnum)]\n",
    "        \n",
    "print (newlist)"
   ]
  },
  {
   "cell_type": "code",
   "execution_count": null,
   "metadata": {},
   "outputs": [],
   "source": [
    "s = ''.join(map(str,digits))\n",
    "i = int(s)+1\n",
    "return list(map(int, str(i)))\n",
    "\n",
    "# http://book.pythontips.com/en/latest/map_filter.html"
   ]
  }
 ],
 "metadata": {
  "kernelspec": {
   "display_name": "Python 3",
   "language": "python",
   "name": "python3"
  },
  "language_info": {
   "codemirror_mode": {
    "name": "ipython",
    "version": 3
   },
   "file_extension": ".py",
   "mimetype": "text/x-python",
   "name": "python",
   "nbconvert_exporter": "python",
   "pygments_lexer": "ipython3",
   "version": "3.6.4"
  }
 },
 "nbformat": 4,
 "nbformat_minor": 2
}
