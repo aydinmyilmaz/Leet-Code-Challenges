{
 "cells": [
  {
   "cell_type": "markdown",
   "metadata": {},
   "source": [
    "Given two strings A and B of lowercase letters, return true if and only if we can swap two letters in A so that the result equals B.\n",
    "\n",
    " \n",
    "\n",
    "Example 1:\n",
    "\n",
    "Input: A = \"ab\", B = \"ba\"\n",
    "Output: true\n",
    "Example 2:\n",
    "\n",
    "Input: A = \"ab\", B = \"ab\"\n",
    "Output: false\n",
    "Example 3:\n",
    "\n",
    "Input: A = \"aa\", B = \"aa\"\n",
    "Output: true\n",
    "Example 4:\n",
    "\n",
    "Input: A = \"aaaaaaabc\", B = \"aaaaaaacb\"\n",
    "Output: true\n",
    "Example 5:\n",
    "\n",
    "Input: A = \"\", B = \"aa\"\n",
    "Output: false"
   ]
  },
  {
   "cell_type": "code",
   "execution_count": 6,
   "metadata": {},
   "outputs": [
    {
     "name": "stdout",
     "output_type": "stream",
     "text": [
      "True 3 9\n",
      "True 3 9\n",
      "True 3 9\n",
      "True 3 9\n",
      "True 3 9\n",
      "True 3 9\n",
      "True 3 9\n",
      "[['b', 'c']]\n",
      "[['b', 'c'], ['c', 'b']]\n",
      "True\n"
     ]
    }
   ],
   "source": [
    "A = \"aaaaaaabc\"\n",
    "B = \"aaaaaaacb\"\n",
    "\n",
    "diffs = []\n",
    "        \n",
    "for index in range(len(A)):\n",
    "    if A[index] != B[index]:\n",
    "        diffs.append([A[index], B[index]])\n",
    "        print(diffs)\n",
    "    if len(diffs) == 0:\n",
    "        print (len(set(A)) < len(A), len(set(A)), len(A))\n",
    "    \n",
    "print (len(diffs) == 2 and diffs[0] == diffs[1][::-1])"
   ]
  },
  {
   "cell_type": "code",
   "execution_count": null,
   "metadata": {},
   "outputs": [],
   "source": []
  }
 ],
 "metadata": {
  "kernelspec": {
   "display_name": "Python 3",
   "language": "python",
   "name": "python3"
  },
  "language_info": {
   "codemirror_mode": {
    "name": "ipython",
    "version": 3
   },
   "file_extension": ".py",
   "mimetype": "text/x-python",
   "name": "python",
   "nbconvert_exporter": "python",
   "pygments_lexer": "ipython3",
   "version": "3.6.4"
  }
 },
 "nbformat": 4,
 "nbformat_minor": 2
}
