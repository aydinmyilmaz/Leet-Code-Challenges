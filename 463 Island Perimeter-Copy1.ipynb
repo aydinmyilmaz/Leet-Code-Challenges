{
 "cells": [
  {
   "cell_type": "markdown",
   "metadata": {},
   "source": [
    "You are given a map in form of a two-dimensional integer grid where 1 represents land and 0 represents water. Grid cells are connected horizontally/vertically (not diagonally). The grid is completely surrounded by water, and there is exactly one island (i.e., one or more connected land cells). The island doesn't have \"lakes\" (water inside that isn't connected to the water around the island). One cell is a square with side length 1. The grid is rectangular, width and height don't exceed 100. Determine the perimeter of the island.\n",
    "\n",
    "Example:\n",
    "\n",
    "[[0,1,0,0],\n",
    " [1,1,1,0],\n",
    " [0,1,0,0],\n",
    " [1,1,0,0]]\n",
    "\n",
    "Answer: 16\n",
    "Explanation: The perimeter is the 16 yellow stripes in the image below:"
   ]
  },
  {
   "cell_type": "code",
   "execution_count": 20,
   "metadata": {},
   "outputs": [
    {
     "name": "stdout",
     "output_type": "stream",
     "text": [
      "ones= 7 p= 6\n",
      "perimeter = 16\n"
     ]
    }
   ],
   "source": [
    "grid=([[0,1,0,0], [1,1,1,0], [0,1,0,0], [1,1,0,0]])\n",
    "\n",
    "M = len(grid)\n",
    "\n",
    "N = len(grid[0])\n",
    " \n",
    "# p komşu olan dolu kare sayısı\n",
    "\n",
    "p = 0\n",
    "\n",
    "# one_total dolu kare sayısı\n",
    "\n",
    "        \n",
    "one_total=[]\n",
    "    \n",
    "for m in range(M):\n",
    "       \n",
    "    for n in range(N):\n",
    "            \n",
    "        if grid[m][n] == 1:\n",
    "            one_total.append(1)\n",
    "                            \n",
    "        if n==N-1:\n",
    "            break\n",
    "                \n",
    "        elif grid[m][n] == 1 and grid[m][n]==grid[m][n+1]:\n",
    "            p+=1\n",
    "    \n",
    "    \n",
    "for m in range(M):\n",
    "        \n",
    "    for n in range(N):\n",
    "           \n",
    "        try:\n",
    "                \n",
    "            if grid[m][n] == 1 and grid[m][n]==grid[m+1][n]:\n",
    "                p+=1\n",
    "                \n",
    "        except:\n",
    "            pass\n",
    "            \n",
    "print(\"ones=\", sum(one_total), \"p=\",p)      \n",
    "\n",
    "print(\"perimeter =\",sum(one_total)*4-p*2 )"
   ]
  }
 ],
 "metadata": {
  "kernelspec": {
   "display_name": "Python 3",
   "language": "python",
   "name": "python3"
  },
  "language_info": {
   "codemirror_mode": {
    "name": "ipython",
    "version": 3
   },
   "file_extension": ".py",
   "mimetype": "text/x-python",
   "name": "python",
   "nbconvert_exporter": "python",
   "pygments_lexer": "ipython3",
   "version": "3.6.4"
  }
 },
 "nbformat": 4,
 "nbformat_minor": 2
}
