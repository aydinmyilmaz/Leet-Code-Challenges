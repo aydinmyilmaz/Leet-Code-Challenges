{
 "cells": [
  {
   "cell_type": "markdown",
   "metadata": {},
   "source": [
    "You are given a license key represented as a string S which consists only alphanumeric character and dashes. The string is separated into N+1 groups by N dashes.\n",
    "\n",
    "Given a number K, we would want to reformat the strings such that each group contains exactly K characters, except for the first group which could be shorter than K, but still must contain at least one character. Furthermore, there must be a dash inserted between two groups and all lowercase letters should be converted to uppercase.\n",
    "\n",
    "Given a non-empty string S and a number K, format the string according to the rules described above.\n",
    "\n",
    "Example 1:\n",
    "Input: S = \"5F3Z-2e-9-w\", K = 4\n",
    "\n",
    "Output: \"5F3Z-2E9W\"\n",
    "\n",
    "Explanation: The string S has been split into two parts, each part has 4 characters.\n",
    "Note that the two extra dashes are not needed and can be removed.\n",
    "Example 2:\n",
    "Input: S = \"2-5g-3-J\", K = 2\n",
    "\n",
    "Output: \"2-5G-3J\"\n",
    "\n",
    "Explanation: The string S has been split into three parts, each part has 2 characters except the first part as it could be shor"
   ]
  },
  {
   "cell_type": "code",
   "execution_count": 49,
   "metadata": {},
   "outputs": [
    {
     "name": "stdout",
     "output_type": "stream",
     "text": [
      "-5F3Z-2E9W\n"
     ]
    }
   ],
   "source": [
    "S = \"5F3Z-2e-9-w-\"\n",
    "K = 4\n",
    "\n",
    "S = S.replace('-','')\n",
    "S = S[::-1]\n",
    "i,new = 0,''\n",
    "while i < len(S):\n",
    "\tnew += S[i:i+K] + '-'\n",
    "\ti += K\n",
    "\n",
    "print (new[::-1][1:].upper())\n",
    "\n",
    " "
   ]
  },
  {
   "cell_type": "code",
   "execution_count": 52,
   "metadata": {},
   "outputs": [
    {
     "name": "stdout",
     "output_type": "stream",
     "text": [
      "start: 0\n",
      "5F3Z-2E9W\n"
     ]
    }
   ],
   "source": [
    "S = \"5F3Z-2e-9-w-\"\n",
    "K = 4  \n",
    "    \n",
    "res = []\n",
    "S = S.replace('-', '').upper()\n",
    "    \n",
    "size = len(S)\n",
    "\n",
    "start = size % K\n",
    "print(\"start:\", start)\n",
    "if start:\n",
    "    res.append(S[:start])\n",
    "\n",
    "for i in range(start, size, K):\n",
    "    res.append(S[i:i+K])\n",
    "    \n",
    "ret = '-'.join(res)\n",
    "    \n",
    "print(ret)"
   ]
  },
  {
   "cell_type": "code",
   "execution_count": null,
   "metadata": {},
   "outputs": [],
   "source": []
  }
 ],
 "metadata": {
  "kernelspec": {
   "display_name": "Python 3",
   "language": "python",
   "name": "python3"
  },
  "language_info": {
   "codemirror_mode": {
    "name": "ipython",
    "version": 3
   },
   "file_extension": ".py",
   "mimetype": "text/x-python",
   "name": "python",
   "nbconvert_exporter": "python",
   "pygments_lexer": "ipython3",
   "version": "3.6.4"
  }
 },
 "nbformat": 4,
 "nbformat_minor": 2
}
