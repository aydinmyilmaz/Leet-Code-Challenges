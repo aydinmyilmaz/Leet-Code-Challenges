{
 "cells": [
  {
   "cell_type": "markdown",
   "metadata": {},
   "source": [
    "An encoded string S is given.  To find and write the decoded string to a tape, the encoded string is read one character at a time and the following steps are taken:\n",
    "\n",
    "If the character read is a letter, that letter is written onto the tape.\n",
    "If the character read is a digit (say d), the entire current tape is repeatedly written d-1 more times in total.\n",
    "Now for some encoded string S, and an index K, find and return the K-th letter (1 indexed) in the decoded string.\n",
    "\n",
    " \n",
    "\n",
    "Example 1:\n",
    "\n",
    "Input: S = \"leet2code3\", K = 10\n",
    "Output: \"o\"\n",
    "Explanation: \n",
    "The decoded string is \"leetleetcodeleetleetcodeleetleetcode\".\n",
    "The 10th letter in the string is \"o\".\n",
    "Example 2:\n",
    "\n",
    "Input: S = \"ha22\", K = 5\n",
    "Output: \"h\"\n",
    "Explanation: \n",
    "The decoded string is \"hahahaha\".  The 5th letter is \"h\".\n",
    "Example 3:\n",
    "\n",
    "Input: S = \"a2345678999999999999999\", K = 1\n",
    "Output: \"a\"\n",
    "Explanation: \n",
    "The decoded string is \"a\" repeated 8301530446056247680 times.  The 1st letter is \"a\".\n",
    " \n",
    "\n",
    "Note:\n",
    "\n",
    "2 <= S.length <= 100\n",
    "S will only contain lowercase letters and digits 2 through 9.\n",
    "S starts with a letter.\n",
    "1 <= K <= 10^9\n",
    "The decoded string is guaranteed to have less than 2^63 letters."
   ]
  },
  {
   "cell_type": "code",
   "execution_count": 18,
   "metadata": {},
   "outputs": [
    {
     "name": "stdout",
     "output_type": "stream",
     "text": [
      "e\n",
      "3.040580357777799\n"
     ]
    }
   ],
   "source": [
    "import time\n",
    "start = time.clock()\n",
    "\n",
    "\n",
    "S = \"leet2code3\"\n",
    "K = 3\n",
    "ll=len(list(S))\n",
    "s=[[]]\n",
    "m=[]\n",
    "j=0\n",
    "\n",
    "one=[i.isalpha() for i in list(S)]\n",
    "\n",
    "if one.count(True)==1:\n",
    "    \n",
    "    print(S[0])\n",
    "    \n",
    "else:\n",
    "    for i in range(0,(ll)):\n",
    "         \n",
    "             \n",
    "        if S[i].isalpha():\n",
    "            \n",
    "                   \n",
    "            s[j].append(S[i])\n",
    "            \n",
    "            \n",
    "        elif S[i].isdigit():\n",
    "            \n",
    "            s[j]=(int(S[i]))*(\"\".join(s[j]))\n",
    "            \n",
    "            s[j]=list(s[j])\n",
    "            \n",
    "            \n",
    "    print(\"\".join(s[j])[K-1])      \n",
    "            \n",
    "            \n",
    "print (time.clock() - start)      "
   ]
  },
  {
   "cell_type": "code",
   "execution_count": 13,
   "metadata": {},
   "outputs": [
    {
     "name": "stdout",
     "output_type": "stream",
     "text": [
      "0 l\n",
      "N: 1 K: 10 c: 0\n",
      "1 e\n",
      "N: 2 K: 10 c: 1\n",
      "2 e\n",
      "N: 3 K: 10 c: 2\n",
      "3 t\n",
      "N: 4 K: 10 c: 3\n",
      "4 2\n",
      "N: 8 K: 10 c: 4\n",
      "5 c\n",
      "N: 9 K: 10 c: 5\n",
      "6 o\n",
      "N: 10 K: 10 c: 6\n",
      "o\n",
      "N/=int(i) 4.0\n",
      "K %= N 2.0\n",
      "e\n",
      "0.000965183902053468\n"
     ]
    }
   ],
   "source": [
    "import time\n",
    "start = time.clock()\n",
    "\n",
    "\n",
    "S = \"leet2code3\"\n",
    "K = 10\n",
    "N = 0\n",
    "\n",
    "\n",
    "for c, i in enumerate(S):\n",
    "    \n",
    "    print(c,i)\n",
    "    \n",
    "    N = N * int(i) if i.isdigit() else N + 1\n",
    "    print(\"N:\",N, \"K:\",K, \"c:\", c)\n",
    "    if K <= N: break\n",
    "        \n",
    "for j in range(c, -1, -1):\n",
    "    i = S[j]\n",
    "    if i.isdigit():\n",
    "        N /= int(i)\n",
    "        print(\"N/=int(i)\", N)        \n",
    "        K %= N\n",
    "        print(\"K %= N\", K)\n",
    "        \n",
    "    else:\n",
    "        if K == N or K == 0:\n",
    "            print(i)\n",
    "        N -= 1\n",
    "        \n",
    "\n",
    "\n",
    "print (time.clock() - start) "
   ]
  },
  {
   "cell_type": "code",
   "execution_count": null,
   "metadata": {},
   "outputs": [],
   "source": []
  },
  {
   "cell_type": "code",
   "execution_count": null,
   "metadata": {},
   "outputs": [],
   "source": []
  },
  {
   "cell_type": "code",
   "execution_count": null,
   "metadata": {},
   "outputs": [],
   "source": [
    ";"
   ]
  }
 ],
 "metadata": {
  "kernelspec": {
   "display_name": "Python 3",
   "language": "python",
   "name": "python3"
  },
  "language_info": {
   "codemirror_mode": {
    "name": "ipython",
    "version": 3
   },
   "file_extension": ".py",
   "mimetype": "text/x-python",
   "name": "python",
   "nbconvert_exporter": "python",
   "pygments_lexer": "ipython3",
   "version": "3.6.4"
  }
 },
 "nbformat": 4,
 "nbformat_minor": 2
}
