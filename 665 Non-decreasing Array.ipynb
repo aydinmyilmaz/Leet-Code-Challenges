{
 "cells": [
  {
   "cell_type": "markdown",
   "metadata": {},
   "source": [
    "Given an array with n integers, your task is to check if it could become non-decreasing by modifying at most 1 element.\n",
    "\n",
    "We define an array is non-decreasing if array[i] <= array[i + 1] holds for every i (1 <= i < n).\n",
    "\n",
    "Example 1: Input: [4,2,3] Output: True Explanation: You could modify the first 4 to 1 to get a non-decreasing array. Example 2: Input: [4,2,1] Output: False Explanation: You can't get a non-decreasing array by modify at most one element. Note: The n belongs to [1, 10,000]."
   ]
  },
  {
   "cell_type": "code",
   "execution_count": 8,
   "metadata": {},
   "outputs": [
    {
     "name": "stdout",
     "output_type": "stream",
     "text": [
      "1 3  sayısı 2  den büyük olduğundan sayaç -1- arttırıldı ve sonraki sayı olan 2 - e gecildi\n",
      "True\n"
     ]
    }
   ],
   "source": [
    "nums=[3,3,2,2]\n",
    "\n",
    "nums2=nums\n",
    "\n",
    "sayac=0\n",
    "\n",
    "value=True\n",
    "\n",
    "\n",
    "for i in range(0, len(nums)-1):\n",
    "    \n",
    "    for ii in range (i+1,len(nums)): \n",
    "        \n",
    "        if nums[i]>nums2[ii] and nums[i]!=nums[i+1]:\n",
    "            \n",
    "            sayac+=1\n",
    "            print(sayac,nums[i],\" sayısı\", nums2[ii], \" den büyük olduğundan sayaç -1- arttırıldı ve sonraki sayı olan\",nums[i+1],  \"- e gecildi\")\n",
    "            break\n",
    "        else:\n",
    "            continue\n",
    "    \n",
    "\n",
    "if sayac>=2:\n",
    "    \n",
    "    value=False\n",
    "    \n",
    "print(value)           "
   ]
  },
  {
   "cell_type": "code",
   "execution_count": null,
   "metadata": {},
   "outputs": [],
   "source": []
  }
 ],
 "metadata": {
  "kernelspec": {
   "display_name": "Python 3",
   "language": "python",
   "name": "python3"
  },
  "language_info": {
   "codemirror_mode": {
    "name": "ipython",
    "version": 3
   },
   "file_extension": ".py",
   "mimetype": "text/x-python",
   "name": "python",
   "nbconvert_exporter": "python",
   "pygments_lexer": "ipython3",
   "version": "3.6.4"
  }
 },
 "nbformat": 4,
 "nbformat_minor": 2
}
