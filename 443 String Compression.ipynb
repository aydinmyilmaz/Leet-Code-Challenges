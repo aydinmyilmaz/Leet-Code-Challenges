{
 "cells": [
  {
   "cell_type": "code",
   "execution_count": 28,
   "metadata": {},
   "outputs": [
    {
     "name": "stdout",
     "output_type": "stream",
     "text": [
      "1\n",
      "['a', '1']\n"
     ]
    }
   ],
   "source": [
    "x=[\"a\"]\n",
    "\n",
    "unique = []\n",
    "[unique.append(item) for item in x if item not in unique]\n",
    "howmany=[x.count(item) for item in unique]\n",
    "print(len(howmany))\n",
    "together=[unique[i]+str(howmany[i]) for i in range(0,len(howmany))]\n",
    "alltogether=\"\".join(together)\n",
    "print(list(alltogether))\n"
   ]
  },
  {
   "cell_type": "code",
   "execution_count": null,
   "metadata": {},
   "outputs": [],
   "source": []
  }
 ],
 "metadata": {
  "kernelspec": {
   "display_name": "Python 3",
   "language": "python",
   "name": "python3"
  },
  "language_info": {
   "codemirror_mode": {
    "name": "ipython",
    "version": 3
   },
   "file_extension": ".py",
   "mimetype": "text/x-python",
   "name": "python",
   "nbconvert_exporter": "python",
   "pygments_lexer": "ipython3",
   "version": "3.6.4"
  }
 },
 "nbformat": 4,
 "nbformat_minor": 2
}
