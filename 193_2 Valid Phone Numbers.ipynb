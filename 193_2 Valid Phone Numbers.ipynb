{
 "cells": [
  {
   "cell_type": "markdown",
   "metadata": {},
   "source": [
    "Given a text file file.txt that contains list of phone numbers (one per line), write a one liner bash script to print all valid phone numbers.\n",
    "\n",
    "You may assume that a valid phone number must appear in one of the following two formats: (xxx) xxx-xxxx or xxx-xxx-xxxx. (x means a digit)\n",
    "\n",
    "You may also assume each line in the text file must not contain leading or trailing white spaces.\n",
    "\n",
    "Example:\n",
    "\n",
    "Assume that file.txt has the following content:\n",
    "\n",
    "987-123-4567\n",
    "\n",
    "123 456 7890\n",
    "\n",
    "(123) 456-7890\n",
    "\n",
    "Your script should output the following valid phone numbers:\n",
    "\n",
    "987-123-4567\n",
    "(123) 456-7890"
   ]
  },
  {
   "cell_type": "code",
   "execution_count": 19,
   "metadata": {},
   "outputs": [
    {
     "name": "stdout",
     "output_type": "stream",
     "text": [
      "987-123-4567\n",
      "(123) 456-7890\n"
     ]
    }
   ],
   "source": [
    "import re\n",
    "\n",
    "phones = open(\"phone_numbers.txt\")\n",
    "\n",
    "myphones = phones.read().split(\"\\n\")\n",
    "\n",
    "for item in myphones:\n",
    "    \n",
    "    pattern1 = re.compile('\\d{3}\\-\\d{3}\\-\\d{4}')\n",
    "    result1 = pattern1.match(item)\n",
    "    pattern2 = re.compile('\\(\\d{3}\\)\\s\\d{3}\\-\\d{4}')\n",
    "    result2 = pattern2.match(item)\n",
    "    \n",
    "    if bool(result1) or bool(result2):\n",
    "        \n",
    "        print (item)\n",
    "        \n",
    "    else:\n",
    "        \n",
    "        continue\n",
    "    \n"
   ]
  },
  {
   "cell_type": "code",
   "execution_count": null,
   "metadata": {},
   "outputs": [],
   "source": [
    "\\w"
   ]
  }
 ],
 "metadata": {
  "kernelspec": {
   "display_name": "Python 3",
   "language": "python",
   "name": "python3"
  },
  "language_info": {
   "codemirror_mode": {
    "name": "ipython",
    "version": 3
   },
   "file_extension": ".py",
   "mimetype": "text/x-python",
   "name": "python",
   "nbconvert_exporter": "python",
   "pygments_lexer": "ipython3",
   "version": "3.6.4"
  }
 },
 "nbformat": 4,
 "nbformat_minor": 2
}
