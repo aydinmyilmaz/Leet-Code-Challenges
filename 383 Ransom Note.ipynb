{
 "cells": [
  {
   "cell_type": "markdown",
   "metadata": {},
   "source": [
    "Given an arbitrary ransom note string and another string containing letters from all the magazines, write a function that will return true if the ransom note can be constructed from the magazines ; otherwise, it will return false.\n",
    "\n",
    "Each letter in the magazine string can only be used once in your ransom note.\n",
    "\n",
    "Note:\n",
    "You may assume that both strings contain only lowercase letters.\n",
    "\n",
    "canConstruct(\"a\", \"b\") -> false\n",
    "canConstruct(\"aa\", \"ab\") -> false\n",
    "canConstruct(\"aa\", \"aab\") -> true"
   ]
  },
  {
   "cell_type": "code",
   "execution_count": 94,
   "metadata": {},
   "outputs": [
    {
     "name": "stdout",
     "output_type": "stream",
     "text": [
      "{'a': 2, 'b': 2, 'c': 2, 'd': 1}\n",
      "{'a': 3, 'b': 4, 'c': 3, 'd': 3}\n"
     ]
    },
    {
     "data": {
      "text/plain": [
       "True"
      ]
     },
     "execution_count": 94,
     "metadata": {},
     "output_type": "execute_result"
    }
   ],
   "source": [
    "ransomNote = \"aabbccd\"\n",
    "magazine =\"baaabbbcccddd\"\n",
    "\n",
    "\n",
    "\n",
    "x=sorted (list(ransomNote))\n",
    "y=sorted (list(magazine))\n",
    "\n",
    "xdict=dict([(item, x.count(item)) for item in x])\n",
    "print(xdict)\n",
    "ydict=dict([(item, y.count(item)) for item in y])\n",
    "print(ydict)\n",
    "result=True\n",
    "for key in xdict:\n",
    "    if key not in ydict or xdict[key]>ydict[key]:\n",
    "        result=False\n",
    "        break\n",
    "    else:\n",
    "        result=True\n",
    "\n",
    "result"
   ]
  },
  {
   "cell_type": "code",
   "execution_count": 95,
   "metadata": {},
   "outputs": [
    {
     "name": "stdout",
     "output_type": "stream",
     "text": [
      "{'c', 'd', 'b', 'a'}\n"
     ]
    },
    {
     "data": {
      "text/plain": [
       "True"
      ]
     },
     "execution_count": 95,
     "metadata": {},
     "output_type": "execute_result"
    }
   ],
   "source": [
    "ransomNote = \"aabbccd\"\n",
    "magazine =\"baaabbbcccddd\"\n",
    "\n",
    "print(set(ransomNote))\n",
    "all([ransomNote.count(i)<= magazine.count(i) for i in set(ransomNote)])"
   ]
  },
  {
   "cell_type": "code",
   "execution_count": null,
   "metadata": {},
   "outputs": [],
   "source": []
  }
 ],
 "metadata": {
  "kernelspec": {
   "display_name": "Python 3",
   "language": "python",
   "name": "python3"
  },
  "language_info": {
   "codemirror_mode": {
    "name": "ipython",
    "version": 3
   },
   "file_extension": ".py",
   "mimetype": "text/x-python",
   "name": "python",
   "nbconvert_exporter": "python",
   "pygments_lexer": "ipython3",
   "version": "3.6.4"
  }
 },
 "nbformat": 4,
 "nbformat_minor": 2
}
