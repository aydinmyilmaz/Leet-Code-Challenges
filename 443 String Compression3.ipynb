{
 "cells": [
  {
   "cell_type": "code",
   "execution_count": 8,
   "metadata": {},
   "outputs": [
    {
     "ename": "SyntaxError",
     "evalue": "invalid syntax (<ipython-input-8-40739e1c907d>, line 3)",
     "output_type": "error",
     "traceback": [
      "\u001b[1;36m  File \u001b[1;32m\"<ipython-input-8-40739e1c907d>\"\u001b[1;36m, line \u001b[1;32m3\u001b[0m\n\u001b[1;33m    Given an array of characters, compress it in-place.\u001b[0m\n\u001b[1;37m           ^\u001b[0m\n\u001b[1;31mSyntaxError\u001b[0m\u001b[1;31m:\u001b[0m invalid syntax\n"
     ]
    }
   ],
   "source": [
    "\n",
    "DescriptionHintsSubmissionsDiscussSolution\n",
    "Given an array of characters, compress it in-place.\n",
    "\n",
    "The length after compression must always be smaller than or equal to the original array.\n",
    "\n",
    "Every element of the array should be a character (not int) of length 1.\n",
    "\n",
    "After you are done modifying the input array in-place, return the new length of the array.\n",
    "\n",
    " \n",
    "Follow up:\n",
    "Could you solve it using only O(1) extra space?\n",
    "\n",
    " \n",
    "Example 1:\n",
    "\n",
    "Input:\n",
    "[\"a\",\"a\",\"b\",\"b\",\"c\",\"c\",\"c\"]\n",
    "\n",
    "Output:\n",
    "Return 6, and the first 6 characters of the input array should be: [\"a\",\"2\",\"b\",\"2\",\"c\",\"3\"]\n",
    "\n",
    "Explanation:\n",
    "\"aa\" is replaced by \"a2\". \"bb\" is replaced by \"b2\". \"ccc\" is replaced by \"c3\".\n",
    " \n",
    "\n",
    "Example 2:\n",
    "\n",
    "Input:\n",
    "[\"a\"]\n",
    "\n",
    "Output:\n",
    "Return 1, and the first 1 characters of the input array should be: [\"a\"]\n",
    "\n",
    "Explanation:\n",
    "Nothing is replaced.\n",
    " \n",
    "\n",
    "Example 3:\n",
    "\n",
    "Input:\n",
    "[\"a\",\"b\",\"b\",\"b\",\"b\",\"b\",\"b\",\"b\",\"b\",\"b\",\"b\",\"b\",\"b\"]\n",
    "\n",
    "Output:\n",
    "Return 4, and the first 4 characters of the input array should be: [\"a\",\"b\",\"1\",\"2\"].\n",
    "\n",
    "Explanation:\n",
    "Since the character \"a\" does not repeat, it is not compressed. \"bbbbbbbbbbbb\" is replaced by \"b12\".\n",
    "Notice each digit has it's own entry in the array.\n",
    " \n",
    "\n",
    "Note:"
   ]
  },
  {
   "cell_type": "code",
   "execution_count": 31,
   "metadata": {},
   "outputs": [
    {
     "data": {
      "text/plain": [
       "['a', '2', 'b', '2', 'c', '3']"
      ]
     },
     "execution_count": 31,
     "metadata": {},
     "output_type": "execute_result"
    }
   ],
   "source": [
    "s=[\"a\",\"a\",\"b\",\"b\",\"c\",\"c\",\"c\"]\n",
    "unique=sorted(list(set(s)))\n",
    "\n",
    "sqzlist = [[x, s.count(x)] for x in unique ]\n",
    "\n",
    "list(\"\".join([str(x)+str(y) if y>1 else str(x) for x,y in sqzlist ]))"
   ]
  },
  {
   "cell_type": "code",
   "execution_count": null,
   "metadata": {},
   "outputs": [],
   "source": []
  }
 ],
 "metadata": {
  "kernelspec": {
   "display_name": "Python 3",
   "language": "python",
   "name": "python3"
  },
  "language_info": {
   "codemirror_mode": {
    "name": "ipython",
    "version": 3
   },
   "file_extension": ".py",
   "mimetype": "text/x-python",
   "name": "python",
   "nbconvert_exporter": "python",
   "pygments_lexer": "ipython3",
   "version": "3.6.4"
  }
 },
 "nbformat": 4,
 "nbformat_minor": 2
}
