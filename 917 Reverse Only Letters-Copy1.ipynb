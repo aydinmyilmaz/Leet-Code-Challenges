{
 "cells": [
  {
   "cell_type": "markdown",
   "metadata": {},
   "source": [
    "Given a string S, return the \"reversed\" string where all characters that are not a letter stay in the same place, and all letters reverse their positions.\n",
    "\n",
    " \n",
    "\n",
    "Example 1:\n",
    "\n",
    "Input: \"ab-cd\"\n",
    "Output: \"dc-ba\"\n",
    "Example 2:\n",
    "\n",
    "Input: \"a-bC-dEf-ghIj\"\n",
    "Output: \"j-Ih-gfE-dCba\"\n",
    "Example 3:\n",
    "\n",
    "Input: \"Test1ng-Leet=code-Q!\"\n",
    "Output: \"Qedo1ct-eeLg=ntse-T!\""
   ]
  },
  {
   "cell_type": "code",
   "execution_count": 36,
   "metadata": {},
   "outputs": [
    {
     "name": "stdout",
     "output_type": "stream",
     "text": [
      "Qedo1ct-eeLg=ntse-T!\n"
     ]
    }
   ],
   "source": [
    "import string\n",
    "\n",
    "mylist=(string.ascii_lowercase)+(string.ascii_uppercase)\n",
    "\n",
    "word=\"Test1ng-Leet=code-Q!\"\n",
    "revword=[]\n",
    "empty=[]\n",
    "\n",
    "revword= [item for item in word if item in mylist][::-1]\n",
    "        \n",
    "\n",
    "\n",
    "for item in list(word):\n",
    "   \n",
    "    if item in list(mylist):\n",
    "        empty.append(\" \")\n",
    "    else:\n",
    "        empty.append(item)\n",
    "\n",
    "for i in range(0,len(empty)):\n",
    "    if empty[i]==\" \":\n",
    "        empty[i]=revword[0]\n",
    "        del revword[0]\n",
    "\n",
    "print(\"\".join(empty))\n",
    "          \n",
    "\n"
   ]
  },
  {
   "cell_type": "code",
   "execution_count": 37,
   "metadata": {},
   "outputs": [
    {
     "ename": "IndentationError",
     "evalue": "unexpected indent (<ipython-input-37-dbcd27015e6c>, line 3)",
     "output_type": "error",
     "traceback": [
      "\u001b[1;36m  File \u001b[1;32m\"<ipython-input-37-dbcd27015e6c>\"\u001b[1;36m, line \u001b[1;32m3\u001b[0m\n\u001b[1;33m    revword=[]\u001b[0m\n\u001b[1;37m    ^\u001b[0m\n\u001b[1;31mIndentationError\u001b[0m\u001b[1;31m:\u001b[0m unexpected indent\n"
     ]
    }
   ],
   "source": [
    "import string\n",
    "        \n",
    "        revword=[]\n",
    "        empty=[]\n",
    "\n",
    "        revword= [item for item in S if item in string.ascii_letters][::-1]\n",
    "        \n",
    "        for item in list(S):\n",
    "   \n",
    "            if item in string.ascii_letters:\n",
    "                empty.append(\" \")\n",
    "            else:\n",
    "                empty.append(item)\n",
    "\n",
    "        for i in range(0,len(empty)):\n",
    "            if empty[i]==\" \":\n",
    "                empty[i]=revword[0]\n",
    "                del revword[0]\n",
    "\n",
    "        return(\"\".join(empty))"
   ]
  },
  {
   "cell_type": "markdown",
   "metadata": {},
   "source": [
    "import string\n",
    "class Solution:\n",
    "    def reverseOnlyLetters(self, S):\n",
    "        reversed_letters = [s for s in S if s in string.ascii_letters][::-1]\n",
    "        i, S = 0, list(S)\n",
    "        for j in range(len(S)):\n",
    "            if S[j] in string.ascii_letters:\n",
    "                S[j] = reversed_letters[i]\n",
    "                i += 1\n",
    "        return \"\".join(S)\n",
    "Single-pass, left and right pointers, bypass the non-letter character and do the swap.\n",
    "class Solution:\n",
    "    def reverseOnlyLetters(self, S):\n",
    "        i, j = 0, len(S)-1\n",
    "        S = list(S)\n",
    "        while i < j:\n",
    "            if S[i].isalpha():\n",
    "                while not S[j].isalpha():\n",
    "                    j -= 1\n",
    "                S[j], S[i] = S[i], S[j]\n",
    "                i, j = i+1, j-1\n",
    "            else:\n",
    "                i += 1\n",
    "        return \"\".join(S)\n",
    "Remark: in string.ascii_letters and isalpha() can be used interchangeably here."
   ]
  },
  {
   "cell_type": "code",
   "execution_count": null,
   "metadata": {},
   "outputs": [],
   "source": []
  }
 ],
 "metadata": {
  "kernelspec": {
   "display_name": "Python 3",
   "language": "python",
   "name": "python3"
  },
  "language_info": {
   "codemirror_mode": {
    "name": "ipython",
    "version": 3
   },
   "file_extension": ".py",
   "mimetype": "text/x-python",
   "name": "python",
   "nbconvert_exporter": "python",
   "pygments_lexer": "ipython3",
   "version": "3.6.4"
  }
 },
 "nbformat": 4,
 "nbformat_minor": 2
}
