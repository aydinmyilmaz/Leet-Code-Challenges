{
 "cells": [
  {
   "cell_type": "markdown",
   "metadata": {},
   "source": [
    "# In a given integer array nums, there is always exactly one largest element.\n",
    "\n",
    "Find whether the largest element in the array is at least twice as much as every other number in the array.\n",
    "\n",
    "If it is, return the index of the largest element, otherwise return -1.\n",
    "\n",
    "Example 1:\n",
    "\n",
    "Input: nums = [3, 6, 1, 0]\n",
    "Output: 1\n",
    "Explanation: 6 is the largest integer, and for every other number in the array x,\n",
    "6 is more than twice as big as x.  The index of value 6 is 1, so we return 1.\n",
    " \n",
    "\n",
    "Example 2:\n",
    "\n",
    "Input: nums = [1, 2, 3, 4]\n",
    "Output: -1\n",
    "Explanation: 4 isn't at least as big as twice the value of 3, so we return -1.\n",
    " "
   ]
  },
  {
   "cell_type": "code",
   "execution_count": 16,
   "metadata": {},
   "outputs": [
    {
     "name": "stdout",
     "output_type": "stream",
     "text": [
      "-1\n"
     ]
    }
   ],
   "source": [
    "        nums=[0] \n",
    "        mx1=max(nums)\n",
    "        index=nums.index(mx1)\n",
    "        if len(nums)==1 and nums!=[0]:\n",
    "            print(0)\n",
    "        \n",
    "        elif len(nums)>=2:\n",
    "            nums.remove(max(nums))\n",
    "            mx2=max(nums)\n",
    "\n",
    "            print ([index if mx1>= 2*mx2 else -1][0])\n",
    "        else:\n",
    "            print (-1)\n"
   ]
  },
  {
   "cell_type": "code",
   "execution_count": 26,
   "metadata": {},
   "outputs": [
    {
     "data": {
      "text/plain": [
       "0"
      ]
     },
     "execution_count": 26,
     "metadata": {},
     "output_type": "execute_result"
    }
   ],
   "source": [
    "nums=[3, 6, 1, 0]\n",
    "[nums.index(sorted(nums)[-1]) if (sorted(nums)[-1])>=2*(sorted(nums)[-2]) else -1][0]\n",
    "0"
   ]
  },
  {
   "cell_type": "code",
   "execution_count": 19,
   "metadata": {},
   "outputs": [
    {
     "ename": "SyntaxError",
     "evalue": "invalid syntax (<ipython-input-19-401c09d2a754>, line 3)",
     "output_type": "error",
     "traceback": [
      "\u001b[1;36m  File \u001b[1;32m\"<ipython-input-19-401c09d2a754>\"\u001b[1;36m, line \u001b[1;32m3\u001b[0m\n\u001b[1;33m    [0 if len(nums)==1 and nums!=[0]]\u001b[0m\n\u001b[1;37m                                    ^\u001b[0m\n\u001b[1;31mSyntaxError\u001b[0m\u001b[1;31m:\u001b[0m invalid syntax\n"
     ]
    }
   ],
   "source": [
    "mx1=max(nums)\n",
    "        index=nums.index(mx1)\n",
    "       0 if len(nums)==1 and nums!=[0]:\n",
    "            print(0)\n",
    "        \n",
    "        elif len(nums)>=2:\n",
    "            nums.remove(max(nums))\n",
    "            mx2=max(nums)\n",
    "\n",
    "            print ([index if mx1>= 2*mx2 else -1][0])\n",
    "        else:\n",
    "            print (-1)"
   ]
  },
  {
   "cell_type": "code",
   "execution_count": null,
   "metadata": {},
   "outputs": [],
   "source": []
  }
 ],
 "metadata": {
  "kernelspec": {
   "display_name": "Python 3",
   "language": "python",
   "name": "python3"
  },
  "language_info": {
   "codemirror_mode": {
    "name": "ipython",
    "version": 3
   },
   "file_extension": ".py",
   "mimetype": "text/x-python",
   "name": "python",
   "nbconvert_exporter": "python",
   "pygments_lexer": "ipython3",
   "version": "3.6.4"
  }
 },
 "nbformat": 4,
 "nbformat_minor": 2
}
