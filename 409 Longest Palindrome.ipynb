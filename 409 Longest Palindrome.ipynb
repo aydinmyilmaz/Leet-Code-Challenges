{
 "cells": [
  {
   "cell_type": "markdown",
   "metadata": {},
   "source": [
    "Given a string which consists of lowercase or uppercase letters, find the length of the longest palindromes that can be built with those letters.\n",
    "\n",
    "This is case sensitive, for example \"Aa\" is not considered a palindrome here.\n",
    "\n",
    "Note:\n",
    "Assume the length of given string will not exceed 1,010.\n",
    "\n",
    "Example:\n",
    "\n",
    "Input:\n",
    "\"abccccdd\"\n",
    "\n",
    "Output:\n",
    "7\n",
    "\n",
    "Explanation:\n",
    "One longest palindrome that can be built is \"dccaccd\", whose length is 7.\n"
   ]
  },
  {
   "cell_type": "code",
   "execution_count": 61,
   "metadata": {},
   "outputs": [
    {
     "name": "stdout",
     "output_type": "stream",
     "text": [
      "s2: ['d', 'b', 'c', 'a']\n",
      "s3: [[2, 'd'], [1, 'b'], [4, 'c'], [1, 'a']]\n",
      "s4: ['d', 'cc']\n",
      "s5: ['b', 'a']\n",
      "s6: ['d', 'cc', 'cc', 'd']\n"
     ]
    },
    {
     "data": {
      "text/plain": [
       "7"
      ]
     },
     "execution_count": 61,
     "metadata": {},
     "output_type": "execute_result"
    }
   ],
   "source": [
    "s = \"abccccdd\"\n",
    "\n",
    "s2 = list(set(list(sorted(s))))\n",
    "print(\"s2:\",s2)\n",
    "s3 = [[s.count(item), item] for item in s2 ]\n",
    "print(\"s3:\",s3)\n",
    "if len(s3)==1:\n",
    "    print(s3[0][0])\n",
    "    import sys\n",
    "    sys.exit()\n",
    "s4 = [x[1]*(int(x[0]/2)) for x in s3 if not x[0] % 2 or x[0]>=2]\n",
    "print(\"s4:\",s4)\n",
    "s5 = [x[1] for x in s3 if  x[0] % 2]\n",
    "print(\"s5:\",s5)\n",
    "s6 = s4+s4[::-1]\n",
    "print(\"s6:\",s6)\n",
    "\n",
    "try:\n",
    "    s6.insert(int(len(s6)/2), s5[0])\n",
    "except:\n",
    "    pass\n",
    "\n",
    "len(\"\".join(s6))\n",
    "    "
   ]
  },
  {
   "cell_type": "code",
   "execution_count": 13,
   "metadata": {},
   "outputs": [
    {
     "data": {
      "text/plain": [
       "'aaa'"
      ]
     },
     "execution_count": 13,
     "metadata": {},
     "output_type": "execute_result"
    }
   ],
   "source": [
    "3*\"a\""
   ]
  },
  {
   "cell_type": "code",
   "execution_count": null,
   "metadata": {},
   "outputs": [],
   "source": []
  }
 ],
 "metadata": {
  "kernelspec": {
   "display_name": "Python 3",
   "language": "python",
   "name": "python3"
  },
  "language_info": {
   "codemirror_mode": {
    "name": "ipython",
    "version": 3
   },
   "file_extension": ".py",
   "mimetype": "text/x-python",
   "name": "python",
   "nbconvert_exporter": "python",
   "pygments_lexer": "ipython3",
   "version": "3.6.4"
  }
 },
 "nbformat": 4,
 "nbformat_minor": 2
}
