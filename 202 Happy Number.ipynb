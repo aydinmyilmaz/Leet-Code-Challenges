{
 "cells": [
  {
   "cell_type": "markdown",
   "metadata": {},
   "source": [
    "Write an algorithm to determine if a number is \"happy\".\n",
    "\n",
    "A happy number is a number defined by the following process: Starting with any positive integer, replace the number by the sum of the squares of its digits, and repeat the process until the number equals 1 (where it will stay), or it loops endlessly in a cycle which does not include 1. Those numbers for which this process ends in 1 are happy numbers.\n",
    "\n",
    "Example: \n",
    "\n",
    "Input: 19\n",
    "Output: true\n",
    "Explanation: \n",
    "1**2 + 9**2 = 82\n",
    "8**2 + 2**2 = 68\n",
    "6**2 + 8**2 = 100\n",
    "1**2 + 0**2 + 0**2 = 1"
   ]
  },
  {
   "cell_type": "code",
   "execution_count": 23,
   "metadata": {},
   "outputs": [],
   "source": [
    "n = 19\n",
    "\n",
    "def square_digits(n):\n",
    "    \n",
    "    square_list=[(int((str(n))[x]))**2 for x in range (0,len(str(n)))]\n",
    "    return sum(square_list)\n",
    "    \n",
    "#int(str(n)[0])**2 + int(str(n)[1])**2 "
   ]
  },
  {
   "cell_type": "code",
   "execution_count": 54,
   "metadata": {},
   "outputs": [
    {
     "data": {
      "text/plain": [
       "'Unhappy Number'"
      ]
     },
     "execution_count": 54,
     "metadata": {},
     "output_type": "execute_result"
    }
   ],
   "source": [
    "def is_happy(n):\n",
    "\n",
    "    def square_digits(n):\n",
    "    \n",
    "        square_list = [(int((str(n))[x]))**2 for x in range (0,len(str(n)))]\n",
    "        return sum(square_list)\n",
    "\n",
    "    counter = 0\n",
    "    if n == 1:\n",
    "        return(True)\n",
    "    else:\n",
    "        while n != 1:\n",
    "            counter += 1\n",
    "            n = square_digits(n)\n",
    "            if n == 1:\n",
    "                return(True)\n",
    "            elif counter==100:\n",
    "                return (False)\n",
    "                break\n",
    "            \n",
    "is_happy(2)"
   ]
  },
  {
   "cell_type": "code",
   "execution_count": 56,
   "metadata": {},
   "outputs": [
    {
     "data": {
      "text/plain": [
       "55"
      ]
     },
     "execution_count": 56,
     "metadata": {},
     "output_type": "execute_result"
    }
   ],
   "source": [
    "x=[1,2,3,4,5]\n",
    "\n",
    "sum([item**2 for item in x])"
   ]
  },
  {
   "cell_type": "code",
   "execution_count": null,
   "metadata": {},
   "outputs": [],
   "source": []
  }
 ],
 "metadata": {
  "kernelspec": {
   "display_name": "Python 3",
   "language": "python",
   "name": "python3"
  },
  "language_info": {
   "codemirror_mode": {
    "name": "ipython",
    "version": 3
   },
   "file_extension": ".py",
   "mimetype": "text/x-python",
   "name": "python",
   "nbconvert_exporter": "python",
   "pygments_lexer": "ipython3",
   "version": "3.6.4"
  }
 },
 "nbformat": 4,
 "nbformat_minor": 2
}
