{
 "cells": [
  {
   "cell_type": "markdown",
   "metadata": {},
   "source": [
    "# Given an integer array nums, find the sum of the elements between indices i and j (i ≤ j), inclusive.\n",
    "\n",
    "Example:\n",
    "Given nums = [-2, 0, 3, -5, 2, -1]\n",
    "\n",
    "sumRange(0, 2) -> 1\n",
    "sumRange(2, 5) -> -1\n",
    "sumRange(0, 5) -> -3\n",
    "Note:\n",
    "You may assume that the array does not change.\n",
    "There are many calls to sumRange function.\n"
   ]
  },
  {
   "cell_type": "code",
   "execution_count": 8,
   "metadata": {},
   "outputs": [],
   "source": [
    "class NumArray(object):\n",
    "\n",
    "    def __init__(self, nums):\n",
    "        \"\"\"\n",
    "        :type nums: List[int]\n",
    "        \"\"\"\n",
    "        \n",
    "\n",
    "    def sumRange(self, i, j):\n",
    "        if i&j<=len(nums):\n",
    "            mylist=nums[i:j]\n",
    "        else:\n",
    "            return None\n",
    "        \"\"\"\n",
    "        :type i: int\n",
    "        :type j: int\n",
    "        :rtype: int\n",
    "\n",
    "\n",
    "sumRange()\"\"\""
   ]
  },
  {
   "cell_type": "code",
   "execution_count": 3,
   "metadata": {},
   "outputs": [
    {
     "data": {
      "text/plain": [
       "-3"
      ]
     },
     "execution_count": 3,
     "metadata": {},
     "output_type": "execute_result"
    }
   ],
   "source": [
    "nums=[-2, 0, 3, -5, 2, -1]\n",
    "\n",
    "sum(nums[0:6])"
   ]
  },
  {
   "cell_type": "code",
   "execution_count": null,
   "metadata": {},
   "outputs": [],
   "source": []
  }
 ],
 "metadata": {
  "kernelspec": {
   "display_name": "Python 3",
   "language": "python",
   "name": "python3"
  },
  "language_info": {
   "codemirror_mode": {
    "name": "ipython",
    "version": 3
   },
   "file_extension": ".py",
   "mimetype": "text/x-python",
   "name": "python",
   "nbconvert_exporter": "python",
   "pygments_lexer": "ipython3",
   "version": "3.6.4"
  }
 },
 "nbformat": 4,
 "nbformat_minor": 2
}
